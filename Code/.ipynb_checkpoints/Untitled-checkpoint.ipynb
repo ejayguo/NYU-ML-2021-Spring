{
 "cells": [
  {
   "cell_type": "code",
   "execution_count": 39,
   "id": "4097d4e6",
   "metadata": {},
   "outputs": [],
   "source": [
    "from DataLoader import LoadData_Abalone, LoadData_Banknote"
   ]
  },
  {
   "cell_type": "code",
   "execution_count": 40,
   "id": "efdd133e",
   "metadata": {},
   "outputs": [],
   "source": [
    "X, Y = LoadData_Banknote()"
   ]
  },
  {
   "cell_type": "code",
   "execution_count": 41,
   "id": "b1d9682c",
   "metadata": {},
   "outputs": [
    {
     "name": "stdout",
     "output_type": "stream",
     "text": [
      "[[  8.6661   -2.8073   -0.44699]\n",
      " [  8.1674   -2.4586   -1.4621 ]\n",
      " [ -2.6383    1.9242    0.10645]\n",
      " ...\n",
      " [-13.4586   17.5932   -2.7771 ]\n",
      " [ -8.3827   12.393    -1.2823 ]\n",
      " [ -0.65804   2.6842    1.1952 ]]\n",
      "[0 0 0 ... 1 1 1]\n",
      "(1372, 3)\n",
      "(1372,)\n"
     ]
    }
   ],
   "source": [
    "\n",
    "print(X)\n",
    "print(Y)\n",
    "print(X.shape)\n",
    "print(Y.shape)"
   ]
  },
  {
   "cell_type": "code",
   "execution_count": 27,
   "id": "5afbe10b",
   "metadata": {},
   "outputs": [
    {
     "name": "stdout",
     "output_type": "stream",
     "text": [
      "-13.7731\n",
      "-5.2861\n",
      "-8.5482\n",
      "[[109.6661   98.1927  100.55301]\n",
      " [109.1674   98.5414   99.5379 ]\n",
      " [ 98.3617  102.9242  101.10645]\n",
      " ...\n",
      " [ 87.5414  118.5932   98.2229 ]\n",
      " [ 92.6173  113.393    99.7177 ]\n",
      " [100.34196 103.6842  102.1952 ]]\n"
     ]
    }
   ],
   "source": [
    "    \n",
    "X_shifted = np.zeros(X_raw.shape)\n",
    "for i in range(0,X_raw.shape[1]):\n",
    "    X_i = X_raw[:,i]\n",
    "    print(np.amin(X_i))\n",
    "    min_i = 100 #np.amin(X_i)\n",
    "    X_shifted_i = X_i + np.absolute(min_i+1)\n",
    "    X_shifted[:,i] = X_shifted_i\n",
    "\n",
    "print(X_shifted)"
   ]
  },
  {
   "cell_type": "code",
   "execution_count": null,
   "id": "f59046ac",
   "metadata": {},
   "outputs": [],
   "source": []
  }
 ],
 "metadata": {
  "kernelspec": {
   "display_name": "Python [conda env:ML2021Spring] *",
   "language": "python",
   "name": "conda-env-ML2021Spring-py"
  },
  "language_info": {
   "codemirror_mode": {
    "name": "ipython",
    "version": 3
   },
   "file_extension": ".py",
   "mimetype": "text/x-python",
   "name": "python",
   "nbconvert_exporter": "python",
   "pygments_lexer": "ipython3",
   "version": "3.8.8"
  }
 },
 "nbformat": 4,
 "nbformat_minor": 5
}
